{
 "cells": [
  {
   "cell_type": "code",
   "execution_count": 4,
   "metadata": {},
   "outputs": [],
   "source": [
    "from openai import OpenAI\n",
    "import numpy as np\n",
    "from qdrant_client import QdrantClient\n",
    "from qdrant_client.models import PointStruct, Filter, FieldCondition, MatchValue, Distance, VectorParams\n",
    "\n",
    "client = OpenAI(\n",
    "    api_key= \"sk-proj-6obtcJjcFARybp6UqnWPT3BlbkFJ7S3eTF5gaVCpXZfDtaTv\",\n",
    "    organization = \"org-5wZe424Sz9nIIZ1Nxgf7n2cv\"\n",
    ")"
   ]
  },
  {
   "cell_type": "code",
   "execution_count": 5,
   "metadata": {},
   "outputs": [],
   "source": [
    "def vectorize_text(text):\n",
    "\n",
    "    embeddings = client.embeddings.create(\n",
    "        input=text,\n",
    "        model=\"text-embedding-3-small\",\n",
    "        encoding_format=\"float\"\n",
    "    )\n",
    "\n",
    "    return np.array(embeddings.data[0].embedding)"
   ]
  },
  {
   "cell_type": "code",
   "execution_count": null,
   "metadata": {},
   "outputs": [],
   "source": [
    "my_text = \"A cat has four legs\"\n",
    "vectorize_text(my_text).shape"
   ]
  },
  {
   "cell_type": "code",
   "execution_count": 8,
   "metadata": {},
   "outputs": [],
   "source": [
    "qc = QdrantClient(\n",
    "    url=\"https://dafd8b74-38ea-418d-88ca-adf6dcfd77a0.us-east4-0.gcp.cloud.qdrant.io\",\n",
    "    port=6333,\n",
    "    api_key=\"FyCZ6JSpMVzV0LwEgPF5UMbslatWLRe7SNwf8lIh3dX500BEh7yX_w\"\n",
    ")"
   ]
  },
  {
   "cell_type": "code",
   "execution_count": 10,
   "metadata": {},
   "outputs": [
    {
     "data": {
      "text/plain": [
       "True"
      ]
     },
     "execution_count": 10,
     "metadata": {},
     "output_type": "execute_result"
    }
   ],
   "source": [
    "qc.create_collection(\n",
    "    collection_name=\"testtest2\",\n",
    "    vectors_config=VectorParams(\n",
    "        # important to know, can find shape of the embeddings of the particular model we used\n",
    "        size=1536,\n",
    "        distance=Distance.COSINE\n",
    "    )\n",
    ")"
   ]
  },
  {
   "cell_type": "code",
   "execution_count": 12,
   "metadata": {},
   "outputs": [
    {
     "data": {
      "text/plain": [
       "UpdateResult(operation_id=0, status=<UpdateStatus.COMPLETED: 'completed'>)"
      ]
     },
     "execution_count": 12,
     "metadata": {},
     "output_type": "execute_result"
    }
   ],
   "source": [
    "point1 = PointStruct(\n",
    "    id=1,\n",
    "    vector=vectorize_text(\"A cat has four legs\"),\n",
    "    payload={\n",
    "        \"doc\" : \"A cat has four legs\",\n",
    "        \"pagenumber\" : \"blabla\",\n",
    "        \"url\" : \"hello.world.ai\"\n",
    "    }\n",
    ")\n",
    "\n",
    "point2 = PointStruct(\n",
    "    id=2,\n",
    "    vector=vectorize_text(\"An octopus has eight legs\"),\n",
    "    payload={\n",
    "        \"doc\" : \"A dog has four legs\",\n",
    "        \"pagenumber\" : \"blabla\",\n",
    "        \"url\" : \"hello.world.ai\"\n",
    "    }\n",
    ")\n",
    "\n",
    "point3 = PointStruct(\n",
    "    id=3,\n",
    "    vector=vectorize_text(\"A human has two legs\"),\n",
    "    payload={\n",
    "        \"doc\" : \"A human has two legs\",\n",
    "        \"pagenumber\" : \"blabla\",\n",
    "        \"url\" : \"hello.world.ai\"\n",
    "    }\n",
    ")\n",
    "\n",
    "# adding the vectors to the vectorDB - Qdrant\n",
    "qc.upsert(collection_name=\"testtest2\", points=[point1, point2, point3])"
   ]
  },
  {
   "cell_type": "code",
   "execution_count": 17,
   "metadata": {},
   "outputs": [],
   "source": [
    "query_vector =  vectorize_text(\"What has the most number of legs?\")\n",
    "hits = qc.search(\n",
    "    collection_name=\"testtest2\",\n",
    "    query_vector=query_vector,\n",
    "    limit=1\n",
    ")"
   ]
  },
  {
   "cell_type": "code",
   "execution_count": 18,
   "metadata": {},
   "outputs": [
    {
     "name": "stdout",
     "output_type": "stream",
     "text": [
      "id=3 version=0 score=0.6393445 payload={'doc': 'Josey is a durian', 'pagenumber': 'blabla', 'url': 'hello.world.ai'} vector=None shard_key=None\n"
     ]
    }
   ],
   "source": [
    "nearest_result = hits[0]\n",
    "print(nearest_result)"
   ]
  }
 ],
 "metadata": {
  "kernelspec": {
   "display_name": "nlp",
   "language": "python",
   "name": "python3"
  },
  "language_info": {
   "codemirror_mode": {
    "name": "ipython",
    "version": 3
   },
   "file_extension": ".py",
   "mimetype": "text/x-python",
   "name": "python",
   "nbconvert_exporter": "python",
   "pygments_lexer": "ipython3",
   "version": "3.9.18"
  }
 },
 "nbformat": 4,
 "nbformat_minor": 2
}
